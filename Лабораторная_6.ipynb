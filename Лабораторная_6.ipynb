{
  "cells": [
    {
      "cell_type": "markdown",
      "metadata": {
        "id": "view-in-github",
        "colab_type": "text"
      },
      "source": [
        "<a href=\"https://colab.research.google.com/github/KatyaKatyaKatyaSSS/DKR-1/blob/main/%D0%9B%D0%B0%D0%B1%D0%BE%D1%80%D0%B0%D1%82%D0%BE%D1%80%D0%BD%D0%B0%D1%8F_6.ipynb\" target=\"_parent\"><img src=\"https://colab.research.google.com/assets/colab-badge.svg\" alt=\"Open In Colab\"/></a>"
      ]
    },
    {
      "cell_type": "markdown",
      "metadata": {
        "id": "9pd8u7TDn_rO"
      },
      "source": [
        "# Лабораторная работа №6\n",
        "## Корреляционные зависимости\n",
        "Созина Екатерина ИСПк 402"
      ]
    },
    {
      "cell_type": "markdown",
      "metadata": {
        "id": "hs6zLDJxn_rS"
      },
      "source": [
        "### Задание\n",
        "1. Изучить теоретический материал (*см. вложенный .pdf файл, стр. 20 - 21*)\n",
        "2. Справочно: Коэффициент ранговой корреляции Спирмена https://math.semestr.ru/corel/spirmen.php\n",
        "2. Выполнить задания из файла (*стр. 21*)"
      ]
    },
    {
      "cell_type": "code",
      "execution_count": 1,
      "metadata": {
        "id": "KXb-00y5n_rT"
      },
      "outputs": [],
      "source": [
        "### ╰( ͡° ͜ʖ ͡° )つ──☆*:・ﾟ"
      ]
    },
    {
      "cell_type": "markdown",
      "source": [
        "# **Ход работы**"
      ],
      "metadata": {
        "id": "MKr2M9Mvpdy6"
      }
    },
    {
      "cell_type": "markdown",
      "source": [
        "\n",
        "\n",
        "1.   Рассмотреть две выборки:\n",
        "\n",
        "X={1,2,3,4,5,6,7,8,9,10}\n",
        "\n",
        "Y={10,34,46,55,61,76,84,99,103,110}\n",
        "2. Построить облако точек для переменных X и Y.\n",
        "\n",
        "3.  Найти коэффициенты корреляции:\n",
        "Пирсона (линейная связь).\n",
        "Спирмена (монотонная связь).\n",
        "\n",
        "\n",
        "\n"
      ],
      "metadata": {
        "id": "4oHF35XEpiKc"
      }
    },
    {
      "cell_type": "code",
      "source": [
        "# Подключение библиотек\n",
        "import numpy as np\n",
        "import matplotlib.pyplot as plt\n",
        "from scipy.stats import pearsonr, spearmanr\n",
        "\n",
        "# 1. Исходные данные\n",
        "X = np.array([1,2,3,4,5,6,7,8,9,10])\n",
        "Y = np.array([10, 34, 46, 55, 61, 76, 84, 99, 103, 110])\n",
        "\n",
        "# 2. Построение облака точек\n",
        "plt.figure(figsize=(7, 5))\n",
        "plt.scatter(X, Y, color='blue', alpha=0.7)\n",
        "plt.xlabel(\"X\")\n",
        "plt.ylabel(\"Y\")\n",
        "plt.title(\"Диаграмма рассеяния X и Y\")\n",
        "plt.grid(True)\n",
        "plt.show()\n",
        "\n",
        "# 3. Вычисление коэффициентов корреляции\n",
        "pearson_corr, pearson_p = pearsonr(X, Y)\n",
        "spearman_corr, spearman_p = spearmanr(X, Y)\n",
        "\n",
        "# 4. Вывод результатов\n",
        "print(f\"Коэффициент корреляции Пирсона: {pearson_corr:.3f}, p-value: {pearson_p:.5f}\")\n",
        "print(f\"Коэффициент корреляции Спирмена: {spearman_corr:.3f}, p-value: {spearman_p:.5f}\")\n",
        "\n",
        "# 5. Анализ результатов\n",
        "alpha = 0.05  # Уровень значимости\n",
        "if pearson_p < alpha:\n",
        "    print(\"Корреляция Пирсона значима.\")\n",
        "else:\n",
        "    print(\"Корреляция Пирсона не значима.\")\n",
        "\n",
        "if spearman_p < alpha:\n",
        "    print(\"Корреляция Спирмена значима.\")\n",
        "else:\n",
        "    print(\"Корреляция Спирмена не значима.\")\n"
      ],
      "metadata": {
        "colab": {
          "base_uri": "https://localhost:8080/",
          "height": 556
        },
        "id": "lsMmAFwUqDw8",
        "outputId": "0cd7480d-a993-485c-f6de-9fa5d6c82fbf"
      },
      "execution_count": 2,
      "outputs": [
        {
          "output_type": "display_data",
          "data": {
            "text/plain": [
              "<Figure size 700x500 with 1 Axes>"
            ],
            "image/png": "[encoded data removed]"
          },
          "metadata": {}
        },
        {
          "output_type": "stream",
          "name": "stdout",
          "text": [
            "Коэффициент корреляции Пирсона: 0.989, p-value: 0.00000\n",
            "Коэффициент корреляции Спирмена: 1.000, p-value: 0.00000\n",
            "Корреляция Пирсона значима.\n",
            "Корреляция Спирмена значима.\n"
          ]
        }
      ]
    },
    {
      "cell_type": "markdown",
      "source": [
        "# **Вывод:**\n",
        "График scatter plot показывает зависимость между X и Y.\n",
        "\n",
        "Коэффициент Пирсона измеряет линейную зависимость.\n",
        "\n",
        "Коэффициент Спирмена измеряет монотонную зависимость.\n",
        "\n",
        "p-значение показывает, значима ли корреляция (если p<0,05, зависимость есть)."
      ],
      "metadata": {
        "id": "HzsSZN07qUc5"
      }
    }
  ],
  "metadata": {
    "kernelspec": {
      "display_name": "Python 3",
      "language": "python",
      "name": "python3"
    },
    "language_info": {
      "codemirror_mode": {
        "name": "ipython",
        "version": 3
      },
      "file_extension": ".py",
      "mimetype": "text/x-python",
      "name": "python",
      "nbconvert_exporter": "python",
      "pygments_lexer": "ipython3",
      "version": "3.10.9"
    },
    "orig_nbformat": 4,
    "vscode": {
      "interpreter": {
        "hash": "a5e5bb8c7f59d999df07168cdddfd96f8fceb1d4deaee65f2787e1aa74655cd7"
      }
    },
    "colab": {
      "provenance": [],
      "include_colab_link": true
    }
  },
  "nbformat": 4,
  "nbformat_minor": 0
}