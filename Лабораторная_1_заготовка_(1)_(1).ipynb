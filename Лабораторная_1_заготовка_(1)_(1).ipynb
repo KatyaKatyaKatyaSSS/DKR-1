{
  "cells": [
    {
      "cell_type": "markdown",
      "metadata": {
        "id": "view-in-github",
        "colab_type": "text"
      },
      "source": [
        "<a href=\"https://colab.research.google.com/github/KatyaKatyaKatyaSSS/DKR-1/blob/main/%D0%9B%D0%B0%D0%B1%D0%BE%D1%80%D0%B0%D1%82%D0%BE%D1%80%D0%BD%D0%B0%D1%8F_1_%D0%B7%D0%B0%D0%B3%D0%BE%D1%82%D0%BE%D0%B2%D0%BA%D0%B0_(1)_(1).ipynb\" target=\"_parent\"><img src=\"https://colab.research.google.com/assets/colab-badge.svg\" alt=\"Open In Colab\"/></a>"
      ]
    },
    {
      "cell_type": "markdown",
      "metadata": {
        "id": "TBEBjjkfFt9n"
      },
      "source": [
        "# Лабораторная работа №1\n",
        "## Повторные независимые испытания. Формула Бернулли. Теоремы Лапласа\n",
        " ## Лабораторная работа выполнена студенткой группы ИСПк402-52-00 Созиной Екатериной\n",
        "## 7 вариант"
      ]
    },
    {
      "cell_type": "markdown",
      "metadata": {
        "id": "0GVMqudiFt9p"
      },
      "source": [
        "**Задание** Ознакомиться с прилагаемым теоретическим материалом, выбрать список заданий из таблицы, решить выбранные задания с использованием ЯП Python, оформляя ход решения в этом файле."
      ]
    },
    {
      "cell_type": "markdown",
      "metadata": {
        "id": "VLTB1mBxYyFs"
      },
      "source": [
        "**Пример решения для задачи № 1а**\n",
        "\n",
        "Здесь описана пользовательская функция, которая принимает параметры из условия задачи: p - искомая вероятность, n - общее количество повторов, k - искомое количество повторов"
      ]
    },
    {
      "cell_type": "code",
      "execution_count": null,
      "metadata": {
        "id": "Qn91AtDMFt9q"
      },
      "outputs": [],
      "source": [
        "from math import factorial\n",
        "def bern(p,k,n):\n",
        "    q = 1 - p\n",
        "    c = factorial(n)/(factorial(k)*factorial(n-k))\n",
        "    return c*(p**k)*(q**(n-k))"
      ]
    },
    {
      "cell_type": "code",
      "execution_count": null,
      "metadata": {
        "id": "zZiQQAo9YyFt",
        "outputId": "a20a7991-bbf2-403d-df67-37522ace06b5"
      },
      "outputs": [
        {
          "data": {
            "text/plain": [
              "0.2621440000000001"
            ]
          },
          "execution_count": 3,
          "metadata": {},
          "output_type": "execute_result"
        }
      ],
      "source": [
        "bern(0.2, 0, 6)"
      ]
    },
    {
      "cell_type": "markdown",
      "source": [
        "**Для задачи №1 необходимо решить три подзадачи (1а, 1б, 1в). Используем формулу Бернулли p — вероятность наступления события, p−1=q — вероятность противоположного события, n — общее количество испытаний, 𝑘 — количество успехов.\n",
        "\n",
        "Ниже приведен код для решения всех 3 подзадач**"
      ],
      "metadata": {
        "id": "u57bbPqWdSlT"
      }
    },
    {
      "cell_type": "code",
      "source": [
        "from math import factorial\n",
        "\n",
        "def bernoulli(p, k, n):\n",
        "    q = 1 - p\n",
        "    c = factorial(n) // (factorial(k) * factorial(n - k))\n",
        "    return c * (p ** k) * (q ** (n - k))\n",
        "\n",
        "# Условия задачи\n",
        "p = 0.2  # вероятность, что станок потребует внимания\n",
        "n = 6    # общее количество станков\n",
        "\n",
        "# а) Вероятность, что мастеру не придётся вмешиваться (k = 0)\n",
        "prob_a = bernoulli(p, 0, n)\n",
        "\n",
        "# б) Вероятность, что мастеру придётся вмешиваться больше 2 раз\n",
        "prob_b = sum(bernoulli(p, k, n) for k in range(3, n + 1))\n",
        "\n",
        "# в) Вероятность, что мастеру придётся вмешиваться меньше 3 раз\n",
        "prob_c = sum(bernoulli(p, k, n) for k in range(0, 3))\n",
        "\n",
        "# Вывод результатов\n",
        "print(f\"а) Вероятность, что мастеру не придётся вмешиваться: {prob_a:.5f}\")\n",
        "print(f\"б) Вероятность, что мастеру придётся вмешиваться больше 2 раз: {prob_b:.5f}\")\n",
        "print(f\"в) Вероятность, что мастеру придётся вмешиваться меньше 3 раз: {prob_c:.5f}\")\n"
      ],
      "metadata": {
        "colab": {
          "base_uri": "https://localhost:8080/"
        },
        "id": "acsjjG76ejMM",
        "outputId": "c16fc45a-7602-4a18-fcdc-f3b8a8bdaaab"
      },
      "execution_count": null,
      "outputs": [
        {
          "output_type": "stream",
          "name": "stdout",
          "text": [
            "а) Вероятность, что мастеру не придётся вмешиваться: 0.26214\n",
            "б) Вероятность, что мастеру придётся вмешиваться больше 2 раз: 0.09888\n",
            "в) Вероятность, что мастеру придётся вмешиваться меньше 3 раз: 0.90112\n"
          ]
        }
      ]
    },
    {
      "cell_type": "markdown",
      "source": [
        "**Задача № 3. Монета брошена 10 раз. Найти вероятность того, что герб выпадет от 4 до 6 раз.**"
      ],
      "metadata": {
        "id": "WsHjP3ougpfz"
      }
    },
    {
      "cell_type": "code",
      "source": [
        "from math import factorial\n",
        "\n",
        "def bernoulli(p, k, n):\n",
        "    q = 1 - p\n",
        "    c = factorial(n) // (factorial(k) * factorial(n - k))\n",
        "    return c * (p ** k) * (q ** (n - k))\n",
        "\n",
        "# Условия задачи\n",
        "p = 0.5  # вероятность выпадения герба\n",
        "n = 10   # общее количество бросков\n",
        "\n",
        "# Вероятность выпадения герба от 4 до 6 раз\n",
        "prob = sum(bernoulli(p, k, n) for k in range(4, 7))\n",
        "\n",
        "print(f\"Вероятность того, что герб выпадет от 4 до 6 раз: {prob:.5f}\")"
      ],
      "metadata": {
        "colab": {
          "base_uri": "https://localhost:8080/"
        },
        "id": "o3-bMMTAaXJL",
        "outputId": "94a6caec-5b3f-498b-c161-18c5e29aff49"
      },
      "execution_count": 1,
      "outputs": [
        {
          "output_type": "stream",
          "name": "stdout",
          "text": [
            "Вероятность того, что герб выпадет от 4 до 6 раз: 0.65625\n"
          ]
        }
      ]
    },
    {
      "cell_type": "markdown",
      "source": [
        "**Задача №7. В освещении помещения фирмы используются 14 лампочек. Для каждой лампочки вероятность того, что она останется исправной в течение года, равна 7/8. Найти вероятность того, что в течение года придётся заменить не меньше половины всех лампочек.**"
      ],
      "metadata": {
        "id": "JR7OVCwSafIW"
      }
    },
    {
      "cell_type": "code",
      "source": [
        "from math import comb\n",
        "\n",
        "# Параметры задачи\n",
        "n = 14  # общее число лампочек\n",
        "p = 0.875  # вероятность исправности\n",
        "q = 1 - p  # вероятность выхода из строя\n",
        "\n",
        "# Функция для вычисления вероятности по формуле Бернулли\n",
        "def bernoulli_probability(n, k, p, q):\n",
        "    return comb(n, k) * (p ** (n - k)) * (q ** k)\n",
        "\n",
        "# Суммируем вероятности для k >= 7\n",
        "probability = sum(bernoulli_probability(n, k, p, q) for k in range(7, n + 1))\n",
        "probability\n"
      ],
      "metadata": {
        "colab": {
          "base_uri": "https://localhost:8080/"
        },
        "id": "jmidyECnbCA3",
        "outputId": "230455cf-02aa-4f02-9648-a4781d1cf64f"
      },
      "execution_count": 2,
      "outputs": [
        {
          "output_type": "execute_result",
          "data": {
            "text/plain": [
              "0.00073120644356095"
            ]
          },
          "metadata": {},
          "execution_count": 2
        }
      ]
    },
    {
      "cell_type": "markdown",
      "source": [
        "**14.В июне в Москве в среднем бывает 20 дождливых дней.\n",
        "Найти вероятность того, что в период с 20 по 25 июня какие-то два\n",
        "дня окажутся дождливыми**"
      ],
      "metadata": {
        "id": "g8j-oRnSbk_-"
      }
    },
    {
      "cell_type": "code",
      "source": [
        "from math import comb\n",
        "\n",
        "# Параметры задачи\n",
        "n = 6  # число дней\n",
        "k = 2  # ровно 2 дождливых дня\n",
        "p = 2 / 3  # вероятность дождливого дня\n",
        "q = 1 - p  # вероятность без дождя\n",
        "\n",
        "# Формула Бернулли\n",
        "probability = comb(n, k) * (p ** k) * (q ** (n - k))\n",
        "probability\n"
      ],
      "metadata": {
        "colab": {
          "base_uri": "https://localhost:8080/"
        },
        "id": "9xGIeaBCbuBC",
        "outputId": "76a20678-6464-4533-efe7-3e798f49300e"
      },
      "execution_count": 3,
      "outputs": [
        {
          "output_type": "execute_result",
          "data": {
            "text/plain": [
              "0.08230452674897122"
            ]
          },
          "metadata": {},
          "execution_count": 3
        }
      ]
    },
    {
      "cell_type": "markdown",
      "source": [
        "**15.Вероятность попадания в мишень при одном выстреле для\n",
        "данного охотника равна 0,9 и не зависит от номера выстрела. Найти наиболее вероятное число попаданий в мишень при 7 выстрелах\n",
        "и соответствующую этому числу вероятность.**"
      ],
      "metadata": {
        "id": "Uv0J8cPXcnsB"
      }
    },
    {
      "cell_type": "code",
      "source": [
        "from math import comb, floor\n",
        "\n",
        "# Данные задачи\n",
        "n = 7  # число выстрелов\n",
        "p = 0.9  # вероятность попадания\n",
        "q = 1 - p  # вероятность промаха\n",
        "\n",
        "# Наиболее вероятное число попаданий\n",
        "k_max = floor((n + 1) * p)\n",
        "\n",
        "# Вероятность этого числа попаданий\n",
        "probability_k_max = comb(n, k_max) * (p ** k_max) * (q ** (n - k_max))\n",
        "\n",
        "k_max, probability_k_max\n"
      ],
      "metadata": {
        "colab": {
          "base_uri": "https://localhost:8080/"
        },
        "id": "pqF-RMqJc8od",
        "outputId": "5f703e27-5386-425e-9ea4-2735d92e020b"
      },
      "execution_count": 4,
      "outputs": [
        {
          "output_type": "execute_result",
          "data": {
            "text/plain": [
              "(7, 0.4782969000000001)"
            ]
          },
          "metadata": {},
          "execution_count": 4
        }
      ]
    },
    {
      "cell_type": "markdown",
      "source": [
        "**16.Вероятность того, что покупателю нужна обувь 41 размера,\n",
        "равна 0,2. Найти вероятность того, что из 5 покупателей обувь этого размера понадобится: а) одному; б) по крайней мере, двум поку-\n",
        "58\n",
        "пателям.**"
      ],
      "metadata": {
        "id": "CLD-gFVIdHng"
      }
    },
    {
      "cell_type": "code",
      "source": [
        "# Данные задачи\n",
        "n = 5  # число покупателей\n",
        "p = 0.2  # вероятность, что покупателю нужен 41 размер\n",
        "q = 1 - p  # вероятность, что не нужен\n",
        "\n",
        "# Функция для биномиального распределения\n",
        "def binomial_probability(n, k, p, q):\n",
        "    return comb(n, k) * (p ** k) * (q ** (n - k))\n",
        "\n",
        "# а) Вероятность, что 41 размер понадобится ровно одному покупателю (k = 1)\n",
        "P_1 = binomial_probability(n, 1, p, q)\n",
        "\n",
        "# б) Вероятность, что 41 размер понадобится как минимум двум покупателям (k >= 2)\n",
        "P_0 = binomial_probability(n, 0, p, q)  # P(0)\n",
        "P_k_ge_2 = 1 - P_0 - P_1\n",
        "\n",
        "P_1, P_k_ge_2\n"
      ],
      "metadata": {
        "colab": {
          "base_uri": "https://localhost:8080/"
        },
        "id": "ocvwdj-SdSDE",
        "outputId": "9a96f39a-d3d2-40a6-c209-df9887a43d7e"
      },
      "execution_count": 5,
      "outputs": [
        {
          "output_type": "execute_result",
          "data": {
            "text/plain": [
              "(0.4096000000000001, 0.26271999999999984)"
            ]
          },
          "metadata": {},
          "execution_count": 5
        }
      ]
    },
    {
      "cell_type": "markdown",
      "source": [
        "**18.Вероятность опоздать на электричку для студента ежедневно равна 0,15. Студент ездит на учёбу 236 дней в году. Найти наивероятнейшее число опозданий в течение года и вероятность этого\n",
        "числа.**"
      ],
      "metadata": {
        "id": "Cgk0RzxOdS0Z"
      }
    },
    {
      "cell_type": "code",
      "source": [
        "import math\n",
        "\n",
        "# Данные задачи\n",
        "p = 0.15  # вероятность опоздать в один день\n",
        "q = 1 - p  # вероятность не опоздать в один день\n",
        "n = 236  # количество дней\n",
        "\n",
        "# Наивероятнейшее число опозданий\n",
        "k_max = math.floor((n + 1) * p)\n",
        "\n",
        "# Функция для вычисления биномиального коэффициента\n",
        "def binomial_coefficient(n, k):\n",
        "    return math.factorial(n) // (math.factorial(k) * math.factorial(n - k))\n",
        "\n",
        "# Вычисление вероятности наивероятнейшего числа опозданий\n",
        "probability_k_max = binomial_coefficient(n, k_max) * (p ** k_max) * (q ** (n - k_max))\n",
        "\n",
        "# Вывод результата\n",
        "print(f\"Наивероятнейшее число опозданий: {k_max}\")\n",
        "print(f\"Вероятность этого числа: {probability_k_max:.6f}\")\n"
      ],
      "metadata": {
        "colab": {
          "base_uri": "https://localhost:8080/"
        },
        "id": "i4b1jNTFd7se",
        "outputId": "97656769-1c75-40d2-e931-e3a9f0bfb96f"
      },
      "execution_count": 8,
      "outputs": [
        {
          "output_type": "stream",
          "name": "stdout",
          "text": [
            "Наивероятнейшее число опозданий: 35\n",
            "Вероятность этого числа: 0.072697\n"
          ]
        }
      ]
    },
    {
      "cell_type": "markdown",
      "source": [
        "**20.Вероятность изготовления стандартной детали равна 0,9.\n",
        "Найти вероятность того, что из 1000 деталей не менее 880 стандартные.**"
      ],
      "metadata": {
        "id": "sQQBPxaZeFq-"
      }
    },
    {
      "cell_type": "code",
      "source": [
        "import math\n",
        "from scipy.stats import norm\n",
        "\n",
        "# Данные задачи\n",
        "n = 1000       # Общее число деталей\n",
        "p = 0.9        # Вероятность изготовления стандартной детали\n",
        "k = 880        # Минимальное число стандартных деталей\n",
        "\n",
        "# Параметры нормального распределения\n",
        "mu = n * p  # Математическое ожидание\n",
        "sigma = math.sqrt(n * p * (1 - p))  # Стандартное отклонение\n",
        "\n",
        "# Нормализация (с поправкой на непрерывность)\n",
        "z = (k - 0.5 - mu) / sigma\n",
        "\n",
        "# Вероятность P(X >= 880)\n",
        "probability = 1 - norm.cdf(z)\n",
        "\n",
        "# Вывод результата\n",
        "print(f\"Математическое ожидание: {mu}\")\n",
        "print(f\"Стандартное отклонение: {sigma:.4f}\")\n",
        "print(f\"Z-значение: {z:.4f}\")\n",
        "print(f\"Вероятность того, что не менее 880 деталей стандартные: {probability:.6f}\")\n"
      ],
      "metadata": {
        "colab": {
          "base_uri": "https://localhost:8080/"
        },
        "id": "je4DHiMOeShR",
        "outputId": "18b462d2-38f1-4108-9648-d2147d7973f8"
      },
      "execution_count": 7,
      "outputs": [
        {
          "output_type": "stream",
          "name": "stdout",
          "text": [
            "Математическое ожидание: 900.0\n",
            "Стандартное отклонение: 9.4868\n",
            "Z-значение: -2.1609\n",
            "Вероятность того, что не менее 880 деталей стандартные: 0.984648\n"
          ]
        }
      ]
    },
    {
      "cell_type": "markdown",
      "source": [
        "**23.Вероятность выигрыша в лотерее равна 0,01. Найти вероятность того, что среди 1000 наугад купленных билетов не менее 30 и\n",
        "не более 40 выигрышных.**"
      ],
      "metadata": {
        "id": "baagXR0xeZel"
      }
    },
    {
      "cell_type": "code",
      "source": [
        "from scipy.stats import binom\n",
        "\n",
        "# Задача 23: вероятность выигрыша в лотерее 0.01, количество билетов 1000\n",
        "p_lottery = 0.01\n",
        "n_lottery = 1000\n",
        "k_min = 30\n",
        "k_max = 40\n",
        "\n",
        "# Вероятность того, что количество выигрышных билетов будет между 30 и 40\n",
        "prob_lottery = binom.cdf(k_max, n_lottery, p_lottery) - binom.cdf(k_min - 1, n_lottery, p_lottery)\n",
        "prob_lottery\n"
      ],
      "metadata": {
        "colab": {
          "base_uri": "https://localhost:8080/"
        },
        "id": "m-zoIL3ufDRR",
        "outputId": "d0fc64c3-09bc-4a84-9d6c-5c2ce40bee9c"
      },
      "execution_count": 6,
      "outputs": [
        {
          "output_type": "execute_result",
          "data": {
            "text/plain": [
              "2.0599877503801878e-07"
            ]
          },
          "metadata": {},
          "execution_count": 6
        }
      ]
    },
    {
      "cell_type": "markdown",
      "source": [
        "**24.Мебельная фабрика производит продукцию, среди которой\n",
        "90% высшего качества. Найти вероятность того, что среди 200 изделий этой фабрики высшего сорта будет: а) не меньше 160; б) не\n",
        "больше 170.**"
      ],
      "metadata": {
        "id": "CLNm_N2xfEWR"
      }
    },
    {
      "cell_type": "code",
      "source": [
        "# Задача 24: вероятность того, что изделия высшего качества составляют 90% продукции\n",
        "p_quality = 0.9\n",
        "n_quality = 200\n",
        "\n",
        "# а) вероятность того, что среди 200 изделий будет не меньше 160 высшего качества\n",
        "k_min_quality = 160\n",
        "prob_quality_min_160 = 1 - binom.cdf(k_min_quality - 1, n_quality, p_quality)\n",
        "\n",
        "# б) вероятность того, что среди 200 изделий будет не больше 170 высшего качества\n",
        "k_max_quality = 170\n",
        "prob_quality_max_170 = binom.cdf(k_max_quality, n_quality, p_quality)\n",
        "\n",
        "prob_quality_min_160, prob_quality_max_170\n"
      ],
      "metadata": {
        "colab": {
          "base_uri": "https://localhost:8080/"
        },
        "id": "Kg_qGsrGfPIu",
        "outputId": "ef592e5b-7290-4674-8ef9-5d3802e2da5d"
      },
      "execution_count": 9,
      "outputs": [
        {
          "output_type": "execute_result",
          "data": {
            "text/plain": [
              "(0.9999927782979444, 0.01632656593176638)"
            ]
          },
          "metadata": {},
          "execution_count": 9
        }
      ]
    }
  ],
  "metadata": {
    "colab": {
      "provenance": [],
      "include_colab_link": true
    },
    "kernelspec": {
      "display_name": "Python 3",
      "language": "python",
      "name": "python3"
    },
    "language_info": {
      "codemirror_mode": {
        "name": "ipython",
        "version": 3
      },
      "file_extension": ".py",
      "mimetype": "text/x-python",
      "name": "python",
      "nbconvert_exporter": "python",
      "pygments_lexer": "ipython3",
      "version": "3.10.9"
    },
    "orig_nbformat": 4,
    "vscode": {
      "interpreter": {
        "hash": "a5e5bb8c7f59d999df07168cdddfd96f8fceb1d4deaee65f2787e1aa74655cd7"
      }
    }
  },
  "nbformat": 4,
  "nbformat_minor": 0
}